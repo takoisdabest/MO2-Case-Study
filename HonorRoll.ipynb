{
 "cells": [
  {
   "cell_type": "code",
   "execution_count": null,
   "id": "752b0bcf-93b6-422e-8301-75801ee2a8bd",
   "metadata": {},
   "outputs": [
    {
     "name": "stdout",
     "output_type": "stream",
     "text": [
      "Welcome to Student Records!\n",
      "Enter 'ZZZ' for the last name to quit.\n"
     ]
    },
    {
     "name": "stdin",
     "output_type": "stream",
     "text": [
      "Enter student's last name:  Delgado\n",
      "Enter student's first name:  Tay\n",
      "Enter student's GPA:  3.5\n"
     ]
    },
    {
     "name": "stdout",
     "output_type": "stream",
     "text": [
      "Tay Delgado has made the Dean's List!\n"
     ]
    },
    {
     "name": "stdin",
     "output_type": "stream",
     "text": [
      "Enter student's last name:  Orndorff\n",
      "Enter student's first name:  Dalton\n",
      "Enter student's GPA:  2.3\n"
     ]
    },
    {
     "name": "stdout",
     "output_type": "stream",
     "text": [
      "Dalton Orndorff does not qualify for any honors.\n"
     ]
    },
    {
     "name": "stdin",
     "output_type": "stream",
     "text": [
      "Enter student's last name:  Haddok\n",
      "Enter student's first name:  June\n",
      "Enter student's GPA:  3.2\n"
     ]
    },
    {
     "name": "stdout",
     "output_type": "stream",
     "text": [
      "June Haddok does not qualify for any honors.\n"
     ]
    },
    {
     "name": "stdin",
     "output_type": "stream",
     "text": [
      "Enter student's last name:  Emery\n",
      "Enter student's first name:  Jeff\n",
      "Enter student's GPA:  3.3\n"
     ]
    },
    {
     "name": "stdout",
     "output_type": "stream",
     "text": [
      "Jeff Emery has made the Honor Roll.\n"
     ]
    },
    {
     "name": "stdin",
     "output_type": "stream",
     "text": [
      "Enter student's last name:  Taylar\n",
      "Enter student's first name:  Orndorff\n",
      "Enter student's GPA:  3.8\n"
     ]
    },
    {
     "name": "stdout",
     "output_type": "stream",
     "text": [
      "Orndorff Taylar has made the Dean's List!\n"
     ]
    }
   ],
   "source": [
    "#Taylar Orndorff\n",
    "#honorroll.py\n",
    "#This app will determine if a student qualifies for honors, the Dean's list, or no honors\n",
    "\n",
    "def main():\n",
    "    print(\"Welcome to Student Records!\")\n",
    "    print(\"Enter 'ZZZ' for the last name to quit.\")\n",
    "\n",
    "    while True:\n",
    "        last_name = input(\"Enter student's last name: \")\n",
    "        if last_name == 'ZZZ':\n",
    "            break\n",
    "\n",
    "        first_name = input(\"Enter student's first name: \")\n",
    "        gpa = float(input(\"Enter student's GPA: \"))\n",
    "\n",
    "        if gpa >= 3.5:\n",
    "            print(f\"{first_name} {last_name} has made the Dean's List!\")\n",
    "        elif gpa >= 3.25:\n",
    "            print(f\"{first_name} {last_name} has made the Honor Roll.\")\n",
    "        else:\n",
    "            print(f\"{first_name} {last_name} does not qualify for any honors.\")\n",
    "\n",
    "if __name__ == \"__main__\":\n",
    "    main()"
   ]
  },
  {
   "cell_type": "code",
   "execution_count": null,
   "id": "d54a19d0-dc0b-4b3a-9b6b-3becd18617e5",
   "metadata": {},
   "outputs": [],
   "source": []
  }
 ],
 "metadata": {
  "kernelspec": {
   "display_name": "Python 3 (ipykernel)",
   "language": "python",
   "name": "python3"
  },
  "language_info": {
   "codemirror_mode": {
    "name": "ipython",
    "version": 3
   },
   "file_extension": ".py",
   "mimetype": "text/x-python",
   "name": "python",
   "nbconvert_exporter": "python",
   "pygments_lexer": "ipython3",
   "version": "3.11.7"
  }
 },
 "nbformat": 4,
 "nbformat_minor": 5
}
